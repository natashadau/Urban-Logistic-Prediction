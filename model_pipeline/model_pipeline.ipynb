{
 "cells": [
  {
   "cell_type": "markdown",
   "id": "253b72ff-9aee-479a-9e2f-05b0615a92ef",
   "metadata": {},
   "source": [
    "**Data Preprocessing**"
   ]
  },
  {
   "cell_type": "code",
   "execution_count": 15,
   "id": "ca4e0ab3-3b79-4813-8bf0-e175ed1c3f57",
   "metadata": {},
   "outputs": [],
   "source": [
    "# librerias\n",
    "import pandas as pd\n",
    "import numpy as np\n",
    "import matplotlib.pyplot as plt\n",
    "from sklearn.model_selection import train_test_split\n",
    "from catboost import CatBoostRegressor\n",
    "from sklearn.metrics import mean_absolute_error, mean_squared_error\n",
    "from sklearn.model_selection import KFold"
   ]
  },
  {
   "cell_type": "code",
   "execution_count": 61,
   "id": "77bbf124-be4b-4dc5-8b05-f6e32b98e108",
   "metadata": {},
   "outputs": [],
   "source": [
    "df = pd.read_csv(\"Food_Delivery_Times.csv\")\n",
    "df.columns = [col.lower() for col in df.columns]"
   ]
  },
  {
   "cell_type": "code",
   "execution_count": 48,
   "id": "8747a614-c22b-4e2f-bd2a-658909e69c79",
   "metadata": {},
   "outputs": [],
   "source": [
    "target = \"delivery_time_min\"\n",
    "assert target in df.columns, f\"{target} not found.\""
   ]
  },
  {
   "cell_type": "markdown",
   "id": "67be71c9-122c-4ed8-89b9-0d7f8df9465d",
   "metadata": {},
   "source": [
    "Drop irrelevant features"
   ]
  },
  {
   "cell_type": "code",
   "execution_count": 49,
   "id": "2e9476b9-d4a0-4daa-b34b-b38382853c31",
   "metadata": {},
   "outputs": [],
   "source": [
    "to_drop = [\"order_id\", \"courier_experience_yrs\"]\n",
    "df = df.drop(columns=[c for c in to_drop if c in df.columns], errors=\"ignore\")"
   ]
  },
  {
   "cell_type": "markdown",
   "id": "62ee73fb-418e-445f-8208-b6b17da8cc58",
   "metadata": {},
   "source": [
    "Handle missing values"
   ]
  },
  {
   "cell_type": "code",
   "execution_count": 50,
   "id": "1b7b6f82-c444-4d2d-8eef-17565e4d5644",
   "metadata": {},
   "outputs": [],
   "source": [
    "df = df[~df[target].isna() & (df[target] > 0)].copy()"
   ]
  },
  {
   "cell_type": "code",
   "execution_count": 51,
   "id": "a9adc5af-0bd9-483c-9e0d-03014cacce16",
   "metadata": {},
   "outputs": [],
   "source": [
    "# identify coulumns \n",
    "num_cols = df.select_dtypes(include=[np.number]).columns.drop([target], errors=\"ignore\").tolist()\n",
    "cat_cols = [c for c in [\"traffic_level\", \"weather\", \"vehicle_type\", \"time_of_day\"] if c in df.columns]"
   ]
  },
  {
   "cell_type": "code",
   "execution_count": 52,
   "id": "1c9b86a2-9e76-48fa-a108-4a76778d3055",
   "metadata": {},
   "outputs": [],
   "source": [
    "# numeric missing values\n",
    "for c in num_cols:\n",
    "    if df[c].isna().any():\n",
    "        df[c] = df[c].fillna(df[c].median())\n",
    "\n",
    "# categorical missing values\n",
    "for c in cat_cols:\n",
    "    df[c] = df[c].astype(str).str.strip()\n",
    "    df[c] = df[c].replace({\"\": np.nan})\n",
    "    df[c] = df[c].fillna(\"unknown\")"
   ]
  },
  {
   "cell_type": "markdown",
   "id": "156dca1c-ff3e-4bd2-a2a5-f7223458d1c1",
   "metadata": {},
   "source": [
    "Split train, validation, test"
   ]
  },
  {
   "cell_type": "code",
   "execution_count": 53,
   "id": "07a04ffb-5602-4cd1-aec4-a03aa2be8d1f",
   "metadata": {},
   "outputs": [
    {
     "name": "stdout",
     "output_type": "stream",
     "text": [
      "Train: 700 | Valid: 150 | Test: 150\n"
     ]
    }
   ],
   "source": [
    "train_df, temp_df = train_test_split(df, test_size=0.30, random_state=42)\n",
    "valid_df, test_df = train_test_split(temp_df, test_size=0.50, random_state=42)\n",
    "\n",
    "print(f\"Train: {len(train_df)} | Valid: {len(valid_df)} | Test: {len(test_df)}\")"
   ]
  },
  {
   "cell_type": "code",
   "execution_count": 54,
   "id": "d3cc16a7-167d-45df-8a27-40d6b17b10b7",
   "metadata": {},
   "outputs": [
    {
     "name": "stdout",
     "output_type": "stream",
     "text": [
      "Categorical features: ['traffic_level', 'weather', 'vehicle_type', 'time_of_day']\n"
     ]
    }
   ],
   "source": [
    "features = [c for c in df.columns if c != target]\n",
    "X_train, y_train = train_df[features], train_df[target]\n",
    "X_valid, y_valid = valid_df[features], valid_df[target]\n",
    "X_test,  y_test  = test_df[features],  test_df[target]\n",
    "\n",
    "cat_features = [c for c in cat_cols if c in X_train.columns]\n",
    "print(\"Categorical features:\", cat_features)"
   ]
  },
  {
   "cell_type": "markdown",
   "id": "6c8bfae6-7799-4294-8114-1a60548dc7d5",
   "metadata": {},
   "source": [
    "**Model**"
   ]
  },
  {
   "cell_type": "code",
   "execution_count": 55,
   "id": "aac79f16-cd4f-45d8-ab15-a8226fbee6ce",
   "metadata": {},
   "outputs": [],
   "source": [
    "model = CatBoostRegressor(\n",
    "    iterations=400,          \n",
    "    learning_rate=0.05,      \n",
    "    depth=8,                  \n",
    "    loss_function=\"RMSE\",     \n",
    "    random_seed=42,\n",
    "    cat_features=cat_features,\n",
    "    verbose=100               \n",
    ")"
   ]
  },
  {
   "cell_type": "code",
   "execution_count": 56,
   "id": "377f6275-e96b-4017-91b2-f272e281ef0e",
   "metadata": {},
   "outputs": [
    {
     "name": "stdout",
     "output_type": "stream",
     "text": [
      "0:\tlearn: 21.2677551\ttest: 23.5435729\tbest: 23.5435729 (0)\ttotal: 57.2ms\tremaining: 22.8s\n",
      "100:\tlearn: 9.7790949\ttest: 11.0785725\tbest: 11.0785725 (100)\ttotal: 3.52s\tremaining: 10.4s\n",
      "200:\tlearn: 8.3153222\ttest: 10.8789394\tbest: 10.8789394 (200)\ttotal: 7.52s\tremaining: 7.44s\n",
      "300:\tlearn: 7.2929949\ttest: 10.8865938\tbest: 10.8352532 (245)\ttotal: 11.5s\tremaining: 3.78s\n",
      "399:\tlearn: 6.3073922\ttest: 10.9394264\tbest: 10.8352532 (245)\ttotal: 15.5s\tremaining: 0us\n",
      "\n",
      "bestTest = 10.83525321\n",
      "bestIteration = 245\n",
      "\n",
      "Shrink model to first 246 iterations.\n"
     ]
    },
    {
     "data": {
      "text/plain": [
       "<catboost.core.CatBoostRegressor at 0x155428c7a10>"
      ]
     },
     "execution_count": 56,
     "metadata": {},
     "output_type": "execute_result"
    }
   ],
   "source": [
    "# train\n",
    "model.fit(\n",
    "    X_train, y_train,\n",
    "    eval_set=(X_valid, y_valid),\n",
    "    use_best_model=True,      \n",
    "    plot=False                 \n",
    ")"
   ]
  },
  {
   "cell_type": "code",
   "execution_count": 58,
   "id": "4156fd0f-ea53-45ff-ae01-2cd98386927a",
   "metadata": {},
   "outputs": [],
   "source": [
    "# predictions\n",
    "y_pred_valid = model.predict(X_valid)\n",
    "y_pred_test = model.predict(X_test)"
   ]
  },
  {
   "cell_type": "code",
   "execution_count": 59,
   "id": "e8db91ba-3b25-4328-97dd-03ff2ff44484",
   "metadata": {},
   "outputs": [
    {
     "name": "stdout",
     "output_type": "stream",
     "text": [
      "Validation -> MAE: 7.00 min | RMSE: 10.84 min | P90 Error: 15.18 min\n",
      "Test -> MAE: 5.81 min | RMSE: 8.48 min | P90 Error: 11.43 min\n"
     ]
    }
   ],
   "source": [
    "# evaluation metrics\n",
    "def evaluate(y_true, y_pred, name=\"Set\"):\n",
    "    mae = mean_absolute_error(y_true, y_pred)\n",
    "    rmse = np.sqrt(mean_squared_error(y_true, y_pred))\n",
    "    p90_error = np.percentile(np.abs(y_true - y_pred), 90)\n",
    "    print(f\"{name} -> MAE: {mae:.2f} min | RMSE: {rmse:.2f} min | P90 Error: {p90_error:.2f} min\")\n",
    "\n",
    "evaluate(y_valid, y_pred_valid, \"Validation\")\n",
    "evaluate(y_test, y_pred_test, \"Test\")"
   ]
  },
  {
   "cell_type": "code",
   "execution_count": 62,
   "id": "14038382-23e7-473a-8b76-4bacca678c4f",
   "metadata": {},
   "outputs": [
    {
     "data": {
      "image/png": "[encoded data removed]",
      "text/plain": [
       "<Figure size 800x500 with 1 Axes>"
      ]
     },
     "metadata": {},
     "output_type": "display_data"
    }
   ],
   "source": [
    "# feature importance\n",
    "importances = model.get_feature_importance()\n",
    "sorted_idx = np.argsort(importances)[::-1]\n",
    "\n",
    "plt.figure(figsize=(8,5))\n",
    "plt.bar([X_train.columns[i] for i in sorted_idx], importances[sorted_idx])\n",
    "plt.title(\"Feature Importance with CatBoost Model\")\n",
    "plt.xticks(rotation=45)\n",
    "plt.show()"
   ]
  },
  {
   "cell_type": "code",
   "execution_count": null,
   "id": "b84df71d-7826-417c-a393-e366b4a032f5",
   "metadata": {},
   "outputs": [],
   "source": []
  }
 ],
 "metadata": {
  "kernelspec": {
   "display_name": "Python 3 (ipykernel)",
   "language": "python",
   "name": "python3"
  },
  "language_info": {
   "codemirror_mode": {
    "name": "ipython",
    "version": 3
   },
   "file_extension": ".py",
   "mimetype": "text/x-python",
   "name": "python",
   "nbconvert_exporter": "python",
   "pygments_lexer": "ipython3",
   "version": "3.12.4"
  }
 },
 "nbformat": 4,
 "nbformat_minor": 5
}
